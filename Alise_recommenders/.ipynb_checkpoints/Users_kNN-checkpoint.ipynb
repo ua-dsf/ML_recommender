{
 "cells": [
  {
   "cell_type": "code",
   "execution_count": 1,
   "metadata": {},
   "outputs": [],
   "source": [
    "import matplotlib.pyplot as plt\n",
    "import matplotlib.cm as cm\n",
    "\n",
    "from sklearn.utils import shuffle\n",
    "from sklearn.utils import check_random_state\n",
    "from sklearn.cluster import KMeans\n",
    "from sklearn.preprocessing import normalize\n",
    "from sklearn.metrics import pairwise_distances                 \n",
    "from sklearn.feature_extraction.text import TfidfVectorizer, CountVectorizer\n",
    "from sklearn.decomposition import NMF, LatentDirichletAllocation\n",
    "from sklearn.datasets import make_blobs\n",
    "from sklearn.feature_extraction.text import TfidfVectorizer, CountVectorizer\n",
    "from sklearn.neighbors import NearestNeighbors, DistanceMetric\n",
    "from sklearn.preprocessing import normalize\n",
    "\n",
    "from scipy.sparse import csr_matrix \n",
    "\n",
    "import pandas as pd\n",
    "import numpy as np\n",
    "import sys      \n",
    "import os\n",
    "%matplotlib inline"
   ]
  },
  {
   "cell_type": "markdown",
   "metadata": {},
   "source": [
    "# Load user dataset"
   ]
  },
  {
   "cell_type": "code",
   "execution_count": 86,
   "metadata": {},
   "outputs": [],
   "source": [
    "# import text documents from user dataset\n",
    "user_data=pd.read_csv('../../preprocess_data/preprocessed/user_appRuns_long_2020_05_01.csv')\n",
    "user_data = user_data.set_index(['username'])"
   ]
  },
  {
   "cell_type": "code",
   "execution_count": 85,
   "metadata": {},
   "outputs": [],
   "source": [
    "# import text documents from user information\n",
    "user_info=pd.read_csv('../../preprocess_data/preprocessed/user_info_dataset_2020_05_01.csv')"
   ]
  },
  {
   "cell_type": "code",
   "execution_count": 59,
   "metadata": {},
   "outputs": [
    {
     "data": {
      "text/plain": [
       "(83230, 2)"
      ]
     },
     "execution_count": 59,
     "metadata": {},
     "output_type": "execute_result"
    }
   ],
   "source": [
    "# extract user information\n",
    "dataset_uinfo= user_info[['username', 'occupation_id', 'research_area_id']]\n",
    "dataset_uinfo=dataset_uinfo.drop_duplicates()\n",
    "dataset_uinfo = dataset_uinfo.set_index(['username'])\n",
    "dataset_uinfo.shape"
   ]
  },
  {
   "cell_type": "markdown",
   "metadata": {},
   "source": [
    "# compute K-NN between users"
   ]
  },
  {
   "cell_type": "code",
   "execution_count": 26,
   "metadata": {},
   "outputs": [],
   "source": [
    "# normalize dataset\n",
    "#user_data_norm= normalize(user_data, norm='l2')"
   ]
  },
  {
   "cell_type": "code",
   "execution_count": 81,
   "metadata": {},
   "outputs": [],
   "source": [
    "nbrs = NearestNeighbors(n_neighbors=10, metric='cosine').fit(user_data)\n",
    "distances, indices = nbrs.kneighbors()\n",
    "\n",
    "def get_closest_neighs(app_id):\n",
    "    row = user_data.index.get_loc(app_id)\n",
    "    usernames=user_data.iloc[indices[row],].reset_index()['username'].values\n",
    "    result = pd.DataFrame({'username':usernames,\n",
    "                           'domain': dataset_uinfo.iloc[dataset_uinfo.index.get_indexer(usernames)]['research_area_id'],\n",
    "                           'occupation': dataset_uinfo.iloc[dataset_uinfo.index.get_indexer(usernames)]['occupation_id'],\n",
    "                           'distance': distances[row].flatten()})\n",
    "    return result"
   ]
  },
  {
   "cell_type": "markdown",
   "metadata": {},
   "source": [
    "## Test the K-NN implementation"
   ]
  },
  {
   "cell_type": "code",
   "execution_count": 82,
   "metadata": {},
   "outputs": [],
   "source": [
    "test_user=\"2016154805\""
   ]
  },
  {
   "cell_type": "code",
   "execution_count": 87,
   "metadata": {},
   "outputs": [],
   "source": [
    "users=get_closest_neighs(test_user)"
   ]
  },
  {
   "cell_type": "code",
   "execution_count": 84,
   "metadata": {},
   "outputs": [
    {
     "data": {
      "text/plain": [
       "occupation_id        3\n",
       "research_area_id    65\n",
       "Name: 2016154805, dtype: int64"
      ]
     },
     "execution_count": 84,
     "metadata": {},
     "output_type": "execute_result"
    }
   ],
   "source": [
    "# get info about query user\n",
    "dataset_uinfo.loc[test_user]"
   ]
  },
  {
   "cell_type": "code",
   "execution_count": null,
   "metadata": {},
   "outputs": [],
   "source": []
  }
 ],
 "metadata": {
  "kernelspec": {
   "display_name": "sprintenv",
   "language": "python",
   "name": "sprintenv"
  },
  "language_info": {
   "codemirror_mode": {
    "name": "ipython",
    "version": 3
   },
   "file_extension": ".py",
   "mimetype": "text/x-python",
   "name": "python",
   "nbconvert_exporter": "python",
   "pygments_lexer": "ipython3",
   "version": "3.7.3"
  }
 },
 "nbformat": 4,
 "nbformat_minor": 2
}
