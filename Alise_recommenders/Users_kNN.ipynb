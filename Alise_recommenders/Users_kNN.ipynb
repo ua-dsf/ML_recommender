{
 "cells": [
  {
   "cell_type": "code",
   "execution_count": 22,
   "metadata": {},
   "outputs": [],
   "source": [
    "import matplotlib.pyplot as plt\n",
    "import matplotlib.cm as cm\n",
    "\n",
    "from sklearn.utils import shuffle\n",
    "from sklearn.utils import check_random_state\n",
    "from sklearn.cluster import KMeans\n",
    "from sklearn.preprocessing import normalize\n",
    "from sklearn.metrics import pairwise_distances                 \n",
    "from sklearn.feature_extraction.text import TfidfVectorizer, CountVectorizer\n",
    "from sklearn.decomposition import NMF, LatentDirichletAllocation\n",
    "from sklearn.datasets import make_blobs\n",
    "from sklearn.feature_extraction.text import TfidfVectorizer, CountVectorizer\n",
    "from sklearn.neighbors import NearestNeighbors, DistanceMetric\n",
    "from sklearn.preprocessing import normalize\n",
    "\n",
    "from scipy.sparse import csr_matrix \n",
    "\n",
    "import pandas as pd\n",
    "import numpy as np\n",
    "import sys      \n",
    "import os\n",
    "%matplotlib inline"
   ]
  },
  {
   "cell_type": "markdown",
   "metadata": {},
   "source": [
    "# Load user dataset"
   ]
  },
  {
   "cell_type": "code",
   "execution_count": 32,
   "metadata": {},
   "outputs": [],
   "source": [
    "# import text documents from app dataset\n",
    "user_data=pd.read_csv('../../preprocess_data/preprocessed/user_appRuns_long_2020_05_01.csv')\n",
    "user_data = user_data.set_index(['user_id'])"
   ]
  },
  {
   "cell_type": "markdown",
   "metadata": {},
   "source": [
    "# compute K-NN between users"
   ]
  },
  {
   "cell_type": "code",
   "execution_count": 33,
   "metadata": {},
   "outputs": [],
   "source": [
    "# normalize dataset\n",
    "user_data_norm= normalize(user_data, norm='l2')"
   ]
  },
  {
   "cell_type": "code",
   "execution_count": 34,
   "metadata": {},
   "outputs": [],
   "source": [
    "nbrs = NearestNeighbors(n_neighbors=10, metric='cosine').fit(user_data_norm)\n",
    "distances, indices = nbrs.kneighbors()\n",
    "\n",
    "def get_closest_neighs(app_id):\n",
    "    row = user_data.index.get_loc(app_id)\n",
    "    result = pd.DataFrame({'app_id':user_data.iloc[indices[row],].reset_index()['user_id'],\n",
    "                           'distance': distances[row].flatten()})\n",
    "    return result"
   ]
  },
  {
   "cell_type": "code",
   "execution_count": 35,
   "metadata": {},
   "outputs": [
    {
     "data": {
      "text/html": [
       "<div>\n",
       "<style scoped>\n",
       "    .dataframe tbody tr th:only-of-type {\n",
       "        vertical-align: middle;\n",
       "    }\n",
       "\n",
       "    .dataframe tbody tr th {\n",
       "        vertical-align: top;\n",
       "    }\n",
       "\n",
       "    .dataframe thead th {\n",
       "        text-align: right;\n",
       "    }\n",
       "</style>\n",
       "<table border=\"1\" class=\"dataframe\">\n",
       "  <thead>\n",
       "    <tr style=\"text-align: right;\">\n",
       "      <th></th>\n",
       "      <th>app_id</th>\n",
       "      <th>distance</th>\n",
       "    </tr>\n",
       "  </thead>\n",
       "  <tbody>\n",
       "    <tr>\n",
       "      <th>0</th>\n",
       "      <td>b984bc44-d228-11e7-b1ba-008cfa5ae621</td>\n",
       "      <td>0.000000</td>\n",
       "    </tr>\n",
       "    <tr>\n",
       "      <th>1</th>\n",
       "      <td>b4033a20-d3b3-11e7-897a-008cfa5ae621</td>\n",
       "      <td>0.000000</td>\n",
       "    </tr>\n",
       "    <tr>\n",
       "      <th>2</th>\n",
       "      <td>6becaa92-854a-11e4-93df-9f73a8b0ccf4</td>\n",
       "      <td>0.000047</td>\n",
       "    </tr>\n",
       "    <tr>\n",
       "      <th>3</th>\n",
       "      <td>6bee5fd6-854a-11e4-adde-2fa5e4374715</td>\n",
       "      <td>0.377180</td>\n",
       "    </tr>\n",
       "    <tr>\n",
       "      <th>4</th>\n",
       "      <td>9406c572-95fc-11e4-a757-a3904a749a9e</td>\n",
       "      <td>0.616611</td>\n",
       "    </tr>\n",
       "    <tr>\n",
       "      <th>5</th>\n",
       "      <td>6bf5de0a-854a-11e4-97fa-c72d3d53b843</td>\n",
       "      <td>0.646784</td>\n",
       "    </tr>\n",
       "    <tr>\n",
       "      <th>6</th>\n",
       "      <td>7f30f034-1781-11e6-ae51-0346f1568795</td>\n",
       "      <td>1.000000</td>\n",
       "    </tr>\n",
       "    <tr>\n",
       "      <th>7</th>\n",
       "      <td>751145d0-b7f0-11e6-8caf-008cfa5ae621</td>\n",
       "      <td>1.000000</td>\n",
       "    </tr>\n",
       "    <tr>\n",
       "      <th>8</th>\n",
       "      <td>80a381fa-5951-11ea-98a3-008cfa5ae621</td>\n",
       "      <td>1.000000</td>\n",
       "    </tr>\n",
       "    <tr>\n",
       "      <th>9</th>\n",
       "      <td>7ec82cf4-3434-11e7-a77b-008cfa5ae621</td>\n",
       "      <td>1.000000</td>\n",
       "    </tr>\n",
       "  </tbody>\n",
       "</table>\n",
       "</div>"
      ],
      "text/plain": [
       "                                 app_id  distance\n",
       "0  b984bc44-d228-11e7-b1ba-008cfa5ae621  0.000000\n",
       "1  b4033a20-d3b3-11e7-897a-008cfa5ae621  0.000000\n",
       "2  6becaa92-854a-11e4-93df-9f73a8b0ccf4  0.000047\n",
       "3  6bee5fd6-854a-11e4-adde-2fa5e4374715  0.377180\n",
       "4  9406c572-95fc-11e4-a757-a3904a749a9e  0.616611\n",
       "5  6bf5de0a-854a-11e4-97fa-c72d3d53b843  0.646784\n",
       "6  7f30f034-1781-11e6-ae51-0346f1568795  1.000000\n",
       "7  751145d0-b7f0-11e6-8caf-008cfa5ae621  1.000000\n",
       "8  80a381fa-5951-11ea-98a3-008cfa5ae621  1.000000\n",
       "9  7ec82cf4-3434-11e7-a77b-008cfa5ae621  1.000000"
      ]
     },
     "execution_count": 35,
     "metadata": {},
     "output_type": "execute_result"
    }
   ],
   "source": [
    "get_closest_neighs(\"0165eb10-cb2c-11e5-bdea-7ba00237c1cb\")"
   ]
  },
  {
   "cell_type": "code",
   "execution_count": null,
   "metadata": {},
   "outputs": [],
   "source": []
  }
 ],
 "metadata": {
  "kernelspec": {
   "display_name": "sprintenv",
   "language": "python",
   "name": "sprintenv"
  },
  "language_info": {
   "codemirror_mode": {
    "name": "ipython",
    "version": 3
   },
   "file_extension": ".py",
   "mimetype": "text/x-python",
   "name": "python",
   "nbconvert_exporter": "python",
   "pygments_lexer": "ipython3",
   "version": "3.7.3"
  }
 },
 "nbformat": 4,
 "nbformat_minor": 2
}
