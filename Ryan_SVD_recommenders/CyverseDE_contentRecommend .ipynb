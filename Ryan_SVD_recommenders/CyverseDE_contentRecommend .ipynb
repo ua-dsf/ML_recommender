{
 "cells": [
  {
   "cell_type": "markdown",
   "metadata": {},
   "source": [
    "## Load Libraries and Initital Dataframe"
   ]
  },
  {
   "cell_type": "code",
   "execution_count": 74,
   "metadata": {},
   "outputs": [],
   "source": [
    "# Load libraries\n",
    "import pandas as pd\n",
    "import numpy as np\n",
    "from sklearn.feature_extraction.text import TfidfVectorizer, CountVectorizer\n",
    "from sklearn.metrics.pairwise import cosine_similarity\n",
    "\n",
    "# make a list of column names to import from CSV\n",
    "fields = ['username','app_name', 'nb_run_app', 'rating']\n",
    "\n",
    "# Load dataframe\n",
    "df = pd.read_csv('../CyVerseRecommendationApp/user_all_dataset_2020_05_01.csv',delimiter=',', usecols=fields)\n"
   ]
  },
  {
   "cell_type": "markdown",
   "metadata": {},
   "source": [
    "## Calculate New Features through Normalization\n",
    "\n",
    "#### App Use Frequency\n",
    "- Feature: nb_run_app, is the number of times a user ran a particular app\n",
    "- Total_app_use by all users is the sum of all values in the vector nb_run_app\n",
    "- Where, App Use Frequency = nb_run_app/Total_app_use\n",
    "\n",
    "#### Percent Ratings\n",
    "- Feature: rating, this is the rating an individual user gave for a particular app\n",
    "- Maximum rating is 5, minimum rating is 1 (possibly 0?)\n",
    "- percent_rating = rating/5"
   ]
  },
  {
   "cell_type": "code",
   "execution_count": 75,
   "metadata": {},
   "outputs": [],
   "source": [
    "# frequency app was run by user vs. all apps run by all users, as a percent\n",
    "df['app_frequency'] = df['nb_run_app'].div(df['nb_run_app'].sum(axis=0), axis=0)\n",
    "\n",
    "# percent ratings\n",
    "\n",
    "df['percent_rating'] = df['rating'].div(5, axis=0)"
   ]
  },
  {
   "cell_type": "markdown",
   "metadata": {},
   "source": [
    "## Make Predictions Using Surprise\n",
    "\n",
    "### *Train-test split and the fit() method with SVD algorithm*\n",
    "\n",
    "### *RMSE to evaluate train-test*\n"
   ]
  },
  {
   "cell_type": "code",
   "execution_count": 77,
   "metadata": {},
   "outputs": [
    {
     "name": "stdout",
     "output_type": "stream",
     "text": [
      "RMSE using SVD on app ratings by percent:  0.24377941046147297 \n",
      " RMSE using SVD on app frequency as a percent:  0.04002215530826723\n"
     ]
    }
   ],
   "source": [
    "from surprise import SVD\n",
    "from surprise import Dataset\n",
    "from surprise import accuracy\n",
    "from surprise import Reader\n",
    "from surprise.model_selection import train_test_split\n",
    "from scipy import stats\n",
    "\n",
    "\n",
    "#make a dataframe for the app use frequency \n",
    "rdf_app = df.drop(columns=['nb_run_app', 'rating', 'percent_rating'])\n",
    "\n",
    "#define rating scale\n",
    "reader = Reader(rating_scale=(0, 1))\n",
    "\n",
    "# Load the app use frequency dataset \n",
    "data1 = Dataset.load_from_df(rdf_app, reader)\n",
    "# sample random trainset and testset\n",
    "# test set is made of 25% of the ratings.\n",
    "trainset1, testset1 = train_test_split(data1, test_size=.25)\n",
    "\n",
    "# We'll use the famous SVD algorithm.\n",
    "algo = SVD()\n",
    "\n",
    "# Train the algorithm on the trainset, and predict ratings for the testset\n",
    "algo.fit(trainset1)\n",
    "predictions1 = algo.test(testset1)\n",
    "\n",
    "# Then compute RMSE\n",
    "appfreqout = accuracy.rmse(predictions1, verbose = False)\n",
    "\n",
    "#========================================================================\n",
    "## Now let's try it with the app rating as a percent\n",
    "#========================================================================\n",
    "\n",
    "#check for normality before using RMSE to confirm fit\n",
    "stats.normaltest(df['percent_rating'])\n",
    "\n",
    "#make a dataframe for user rating frequency\n",
    "rdf_rat = df.drop(columns=['nb_run_app', 'rating', 'app_frequency'])\n",
    "\n",
    "#define rating scale\n",
    "reader = Reader(rating_scale=(0, 1))\n",
    "\n",
    "# Load the app use frequency dataset \n",
    "data2 = Dataset.load_from_df(rdf_rat, reader)\n",
    "# sample random trainset and testset\n",
    "# test set is made of 25% of the ratings.\n",
    "trainset2, testset2 = train_test_split(data2, test_size=.25)\n",
    "\n",
    "# We'll use the famous SVD algorithm.\n",
    "algo = SVD()\n",
    "\n",
    "# Train the algorithm on the trainset, and predict ratings for the testset\n",
    "algo.fit(trainset2)\n",
    "predictions2 = algo.test(testset2)\n",
    "\n",
    "# Then compute RMSE\n",
    "ratingout = accuracy.rmse(predictions2, verbose = False)\n",
    "\n",
    "#print results\n",
    "print('RMSE using SVD on app ratings by percent: ', ratingout, '\\n RMSE using SVD on app frequency as a percent: ', appfreqout)"
   ]
  },
  {
   "cell_type": "code",
   "execution_count": null,
   "metadata": {},
   "outputs": [],
   "source": []
  }
 ],
 "metadata": {
  "celltoolbar": "Raw Cell Format",
  "kernelspec": {
   "display_name": "Python 3",
   "language": "python",
   "name": "python3"
  },
  "language_info": {
   "codemirror_mode": {
    "name": "ipython",
    "version": 3
   },
   "file_extension": ".py",
   "mimetype": "text/x-python",
   "name": "python",
   "nbconvert_exporter": "python",
   "pygments_lexer": "ipython3",
   "version": "3.7.7"
  }
 },
 "nbformat": 4,
 "nbformat_minor": 4
}
